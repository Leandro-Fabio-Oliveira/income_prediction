{
 "cells": [
  {
   "cell_type": "markdown",
   "id": "2f47dfb7-7ac6-4d70-8eb6-4d11f580ac92",
   "metadata": {},
   "source": [
    "# Project Income Prediction"
   ]
  },
  {
   "cell_type": "markdown",
   "id": "a29602da-1af7-452a-8c7d-cf78937aa693",
   "metadata": {},
   "source": [
    "#### **Index:** <a>\n",
    "0) [Introduction](#0)\n",
    "1) [Packages and Functions](#1)\n",
    "2) [Tidying Data](#2)\n",
    "3) [Exploratory Data Analisys](#3)\n",
    "4) [Modeling](#5)\n",
    "5) [Final Validation](#6)"
   ]
  },
  {
   "cell_type": "markdown",
   "id": "3c0e3d5c-9467-4177-a8a8-e3e9f27dd53a",
   "metadata": {},
   "source": [
    "### 0) Introduction <a name=\"0\"></a>"
   ]
  },
  {
   "cell_type": "markdown",
   "id": "60bb17f3-ad46-4d65-891b-43442e39074c",
   "metadata": {},
   "source": [
    "The objective behind this notebook is, uderstand the dataset, finding patterns and developing a model to predict customer's income. This is just a study notebook, to improve my data analisys and modeling skills."
   ]
  },
  {
   "cell_type": "markdown",
   "id": "1c89f905-0a68-44c4-8cb8-c6b01b5173e5",
   "metadata": {},
   "source": [
    "*This dataset is part of the Data Scientist Course from EBAC*"
   ]
  },
  {
   "cell_type": "markdown",
   "id": "e11e7e05-4e6c-44bd-bd92-18bf3a17ef0d",
   "metadata": {},
   "source": [
    "### 1) Packages and Functions <a name=\"1\"></a>\n"
   ]
  },
  {
   "cell_type": "code",
   "execution_count": 1,
   "id": "07775650-6883-4797-adfa-a38d61c67d13",
   "metadata": {},
   "outputs": [],
   "source": [
    "import pandas as pd\n",
    "import numpy as np\n",
    "import matplotlib.pyplot as plt\n",
    "import seaborn as sns\n",
    "import statsmodels.api as sm\n",
    "import statsmodels.formula.api as smf"
   ]
  },
  {
   "cell_type": "code",
   "execution_count": 11,
   "id": "534f0424-b858-40b1-9b56-6b3eec4d24ea",
   "metadata": {},
   "outputs": [],
   "source": [
    "def categoricals_plot(df:pd.DataFrame, var:str, ax1, ax2) -> None:\n",
    "    \"\"\"\n",
    "    This function plots the mean of the variables in a barplot and median in a line plot.\n",
    "    \"\"\"\n",
    "    dist_data = df[var].value_counts().reset_index()\n",
    "    dist_data.columns = [var, 'count']\n",
    "    \n",
    "    sns.barplot(\n",
    "        x=dist_data['count'],\n",
    "        y=dist_data[var],\n",
    "        ax=ax1\n",
    "    )\n",
    "    ax1.set_title(f'Distribution of {var}')\n",
    "    ax1.set_ylabel(var)\n",
    "    ax1.set_xlabel('')\n",
    "    \n",
    "    sns.barplot(\n",
    "        data=df, y=var, x='income', label='Mean', ax=ax2)\n",
    "    sns.lineplot(\n",
    "        data=df, y=var, x='income', label='Median', ax=ax2,\n",
    "        estimator=np.median, color='red'\n",
    "    )\n",
    "    ax2.set_title(f'Income per {var}')\n",
    "    ax2.legend()\n",
    "    ax2.set_ylabel(var)\n",
    "    ax2.set_xlabel('')"
   ]
  },
  {
   "cell_type": "code",
   "execution_count": 3,
   "id": "7b25ce09-1f9a-4e2e-aff7-81b0090900b2",
   "metadata": {},
   "outputs": [],
   "source": [
    "pd_max_columns = pd.options.display.max_columns\n",
    "Pd_max_rows = pd.options.display.max_rows\n",
    "\n",
    "pd.options.display.max_columns = None\n",
    "pd.options.display.max_rows = None"
   ]
  },
  {
   "cell_type": "markdown",
   "id": "0ea8297c-b86c-41db-b705-dcd2eb30ab09",
   "metadata": {},
   "source": [
    "### 2) Tidying Data <a name=\"2\"></a>"
   ]
  },
  {
   "cell_type": "markdown",
   "id": "50f3b2e6-4f3e-4f7a-9fd0-f0a01bc150ab",
   "metadata": {},
   "source": [
    "Let's take a look at the dataset"
   ]
  },
  {
   "cell_type": "code",
   "execution_count": 4,
   "id": "f9cb2be6-a637-48e6-99dc-44ba68f6e70b",
   "metadata": {},
   "outputs": [],
   "source": [
    "df_raw = pd.read_csv('.\\\\data\\\\previsao_de_renda.csv')"
   ]
  },
  {
   "cell_type": "code",
   "execution_count": 5,
   "id": "3f3bf5c6-6450-4993-a130-8cd455b0896b",
   "metadata": {},
   "outputs": [
    {
     "data": {
      "text/html": [
       "<div>\n",
       "<style scoped>\n",
       "    .dataframe tbody tr th:only-of-type {\n",
       "        vertical-align: middle;\n",
       "    }\n",
       "\n",
       "    .dataframe tbody tr th {\n",
       "        vertical-align: top;\n",
       "    }\n",
       "\n",
       "    .dataframe thead th {\n",
       "        text-align: right;\n",
       "    }\n",
       "</style>\n",
       "<table border=\"1\" class=\"dataframe\">\n",
       "  <thead>\n",
       "    <tr style=\"text-align: right;\">\n",
       "      <th></th>\n",
       "      <th>Unnamed: 0</th>\n",
       "      <th>data_ref</th>\n",
       "      <th>id_cliente</th>\n",
       "      <th>sexo</th>\n",
       "      <th>posse_de_veiculo</th>\n",
       "      <th>posse_de_imovel</th>\n",
       "      <th>qtd_filhos</th>\n",
       "      <th>tipo_renda</th>\n",
       "      <th>educacao</th>\n",
       "      <th>estado_civil</th>\n",
       "      <th>tipo_residencia</th>\n",
       "      <th>idade</th>\n",
       "      <th>tempo_emprego</th>\n",
       "      <th>qt_pessoas_residencia</th>\n",
       "      <th>renda</th>\n",
       "    </tr>\n",
       "  </thead>\n",
       "  <tbody>\n",
       "    <tr>\n",
       "      <th>0</th>\n",
       "      <td>0</td>\n",
       "      <td>2015-01-01</td>\n",
       "      <td>15056</td>\n",
       "      <td>F</td>\n",
       "      <td>False</td>\n",
       "      <td>True</td>\n",
       "      <td>0</td>\n",
       "      <td>Empresário</td>\n",
       "      <td>Secundário</td>\n",
       "      <td>Solteiro</td>\n",
       "      <td>Casa</td>\n",
       "      <td>26</td>\n",
       "      <td>6.602740</td>\n",
       "      <td>1.0</td>\n",
       "      <td>8060.34</td>\n",
       "    </tr>\n",
       "    <tr>\n",
       "      <th>1</th>\n",
       "      <td>1</td>\n",
       "      <td>2015-01-01</td>\n",
       "      <td>9968</td>\n",
       "      <td>M</td>\n",
       "      <td>True</td>\n",
       "      <td>True</td>\n",
       "      <td>0</td>\n",
       "      <td>Assalariado</td>\n",
       "      <td>Superior completo</td>\n",
       "      <td>Casado</td>\n",
       "      <td>Casa</td>\n",
       "      <td>28</td>\n",
       "      <td>7.183562</td>\n",
       "      <td>2.0</td>\n",
       "      <td>1852.15</td>\n",
       "    </tr>\n",
       "    <tr>\n",
       "      <th>2</th>\n",
       "      <td>2</td>\n",
       "      <td>2015-01-01</td>\n",
       "      <td>4312</td>\n",
       "      <td>F</td>\n",
       "      <td>True</td>\n",
       "      <td>True</td>\n",
       "      <td>0</td>\n",
       "      <td>Empresário</td>\n",
       "      <td>Superior completo</td>\n",
       "      <td>Casado</td>\n",
       "      <td>Casa</td>\n",
       "      <td>35</td>\n",
       "      <td>0.838356</td>\n",
       "      <td>2.0</td>\n",
       "      <td>2253.89</td>\n",
       "    </tr>\n",
       "    <tr>\n",
       "      <th>3</th>\n",
       "      <td>3</td>\n",
       "      <td>2015-01-01</td>\n",
       "      <td>10639</td>\n",
       "      <td>F</td>\n",
       "      <td>False</td>\n",
       "      <td>True</td>\n",
       "      <td>1</td>\n",
       "      <td>Servidor público</td>\n",
       "      <td>Superior completo</td>\n",
       "      <td>Casado</td>\n",
       "      <td>Casa</td>\n",
       "      <td>30</td>\n",
       "      <td>4.846575</td>\n",
       "      <td>3.0</td>\n",
       "      <td>6600.77</td>\n",
       "    </tr>\n",
       "    <tr>\n",
       "      <th>4</th>\n",
       "      <td>4</td>\n",
       "      <td>2015-01-01</td>\n",
       "      <td>7064</td>\n",
       "      <td>M</td>\n",
       "      <td>True</td>\n",
       "      <td>False</td>\n",
       "      <td>0</td>\n",
       "      <td>Assalariado</td>\n",
       "      <td>Secundário</td>\n",
       "      <td>Solteiro</td>\n",
       "      <td>Governamental</td>\n",
       "      <td>33</td>\n",
       "      <td>4.293151</td>\n",
       "      <td>1.0</td>\n",
       "      <td>6475.97</td>\n",
       "    </tr>\n",
       "  </tbody>\n",
       "</table>\n",
       "</div>"
      ],
      "text/plain": [
       "   Unnamed: 0    data_ref  id_cliente sexo  posse_de_veiculo  posse_de_imovel  \\\n",
       "0           0  2015-01-01       15056    F             False             True   \n",
       "1           1  2015-01-01        9968    M              True             True   \n",
       "2           2  2015-01-01        4312    F              True             True   \n",
       "3           3  2015-01-01       10639    F             False             True   \n",
       "4           4  2015-01-01        7064    M              True            False   \n",
       "\n",
       "   qtd_filhos        tipo_renda           educacao estado_civil  \\\n",
       "0           0        Empresário         Secundário     Solteiro   \n",
       "1           0       Assalariado  Superior completo       Casado   \n",
       "2           0        Empresário  Superior completo       Casado   \n",
       "3           1  Servidor público  Superior completo       Casado   \n",
       "4           0       Assalariado         Secundário     Solteiro   \n",
       "\n",
       "  tipo_residencia  idade  tempo_emprego  qt_pessoas_residencia    renda  \n",
       "0            Casa     26       6.602740                    1.0  8060.34  \n",
       "1            Casa     28       7.183562                    2.0  1852.15  \n",
       "2            Casa     35       0.838356                    2.0  2253.89  \n",
       "3            Casa     30       4.846575                    3.0  6600.77  \n",
       "4   Governamental     33       4.293151                    1.0  6475.97  "
      ]
     },
     "execution_count": 5,
     "metadata": {},
     "output_type": "execute_result"
    }
   ],
   "source": [
    "df_raw.head()"
   ]
  },
  {
   "cell_type": "code",
   "execution_count": 6,
   "id": "cafbd539-345d-43f3-ab94-877c667f6de9",
   "metadata": {},
   "outputs": [
    {
     "name": "stdout",
     "output_type": "stream",
     "text": [
      "<class 'pandas.core.frame.DataFrame'>\n",
      "RangeIndex: 15000 entries, 0 to 14999\n",
      "Data columns (total 15 columns):\n",
      " #   Column                 Non-Null Count  Dtype  \n",
      "---  ------                 --------------  -----  \n",
      " 0   Unnamed: 0             15000 non-null  int64  \n",
      " 1   data_ref               15000 non-null  object \n",
      " 2   id_cliente             15000 non-null  int64  \n",
      " 3   sexo                   15000 non-null  object \n",
      " 4   posse_de_veiculo       15000 non-null  bool   \n",
      " 5   posse_de_imovel        15000 non-null  bool   \n",
      " 6   qtd_filhos             15000 non-null  int64  \n",
      " 7   tipo_renda             15000 non-null  object \n",
      " 8   educacao               15000 non-null  object \n",
      " 9   estado_civil           15000 non-null  object \n",
      " 10  tipo_residencia        15000 non-null  object \n",
      " 11  idade                  15000 non-null  int64  \n",
      " 12  tempo_emprego          12427 non-null  float64\n",
      " 13  qt_pessoas_residencia  15000 non-null  float64\n",
      " 14  renda                  15000 non-null  float64\n",
      "dtypes: bool(2), float64(3), int64(4), object(6)\n",
      "memory usage: 1.5+ MB\n"
     ]
    }
   ],
   "source": [
    "df_raw.info()"
   ]
  },
  {
   "cell_type": "markdown",
   "id": "9e4e0164-cafe-4724-8c44-83f0e933e3da",
   "metadata": {},
   "source": [
    "\n",
    "|Column                |Rename             |Data Type|Description                                       |\n",
    "|----------------------|-------------------|---------|--------------------------------------------------|\n",
    "| Unnamed: 0           |                   |int      | Appears to be a index column, it will be removed |\n",
    "| data_ref             |                   |date     | The reference date                               |\n",
    "| id_cliente           |                   |int      | Customer ID                                      |\n",
    "| sexo                 |sex                |str      | Customer's sex: <br> • M = Male <br> • F = Female|\n",
    "| posse_de_veiculo     |car_owner          |bool     | Indicates if the customer owns a vehicle         |\n",
    "| posse_de_imovel      |house_owner        |bool     | Indicates if the customer owns a house           |\n",
    "| qtd_filhos           |n_children         |int      | Number of children the customer has              |\n",
    "| tipo_renda           |income_type        |str      | Type of income: <br> • Empresário = Businessperson <br> • Assalariado = Salaried <br> • Servidor público = Public servant <br> • Pensionista = Pensioner <br> • Bolsista = Scholarship recipient      |\n",
    "| educacao             |education          |str      | Education level: <br> • Primário = Primary school <br> • Secundário = Secondary school <br> • Superior incompleto = Incomplete higher education <br> • Superior completo = Higher education <br> • Pós-graduação = Postgraduate education |\n",
    "| estado_civil         |marital_state      |str      | Marital status: <br> • Solteiro = Single <br> • União = Civil union <br> • Casado = Married <br> • Separado = Separated <br> • Viúvo = Widowed                                                    |\n",
    "| tipo_residencia      |residence_type     |str      | Type of residence: <br> • Casa = House <br> • Governamental = Government housing <br> • Com os pais = Living with parents <br> • Aluguel = Rented <br> • Comunitário = Communal housing <br> • Estúdio = Studio apartment |\n",
    "| idade                |age                |int      | Customer's age (in years)                        |\n",
    "| tempo_emprego        |job_tenure         |float    | Customer's tenure at current job (in years).     |\n",
    "| qt_pessoas_residencia|people_in_household|float    | Number of people in the customer's household     |\n",
    "| renda                |income             |float    | Income in BRL (Brazilian Real).                  ||"
   ]
  },
  {
   "cell_type": "markdown",
   "id": "df039318-3fe8-4b08-9aca-701db052fd01",
   "metadata": {},
   "source": [
    "'Unnamed: 0', 'data_ref' and 'id_cliente' won't help to predict the income, so let's remove it. Also, we are going to rename the columns."
   ]
  },
  {
   "cell_type": "code",
   "execution_count": 12,
   "id": "c224beb2-a900-4837-89ad-3c6fbbfcc2a2",
   "metadata": {},
   "outputs": [],
   "source": [
    "renamed_columns = {'sexo': 'sex',\n",
    "                   'posse_de_veiculo': 'car_owner',\n",
    "                   'posse_de_imovel': 'house_owner',\n",
    "                   'qtd_filhos': 'n_children',\n",
    "                   'tipo_renda': 'income_type',\n",
    "                   'educacao': 'education',\n",
    "                   'estado_civil': 'marital_state',\n",
    "                   'tipo_residencia': 'residence_type',\n",
    "                   'idade': 'age',\n",
    "                   'tempo_emprego': 'job_tenure',\n",
    "                   'qt_pessoas_residencia': 'people_in_household',\n",
    "                   'renda': 'income'}\n",
    "df = (df_raw\n",
    "      .drop(['id_cliente', 'Unnamed: 0', 'data_ref'], axis=1)\n",
    "      .rename(columns=renamed_columns))"
   ]
  },
  {
   "cell_type": "markdown",
   "id": "ad3b3ff8-37f7-4451-9aea-fa3e097e70f3",
   "metadata": {},
   "source": [
    "Let's check if there are missing values"
   ]
  },
  {
   "cell_type": "code",
   "execution_count": 8,
   "id": "ca9bfbbd-c9cd-4684-aff5-d1714b27767f",
   "metadata": {},
   "outputs": [
    {
     "data": {
      "text/plain": [
       "sex                       0\n",
       "car_owner                 0\n",
       "house_owner               0\n",
       "n_children                0\n",
       "income_type               0\n",
       "education                 0\n",
       "marital_state             0\n",
       "residence_type            0\n",
       "age                       0\n",
       "job_tenure             2573\n",
       "people_in_household       0\n",
       "income                    0\n",
       "dtype: int64"
      ]
     },
     "execution_count": 8,
     "metadata": {},
     "output_type": "execute_result"
    }
   ],
   "source": [
    "df.isna().sum()"
   ]
  },
  {
   "cell_type": "markdown",
   "id": "d88cf7e5-5ce1-41ab-909c-a78cbf4a21b8",
   "metadata": {},
   "source": [
    "Only 'job tenure' has missing values. For now, we'll keep as it is, further we check if this variable need more treatment."
   ]
  },
  {
   "cell_type": "code",
   "execution_count": 9,
   "id": "65614ddb-740f-42c7-a2c5-f3021e1242ee",
   "metadata": {},
   "outputs": [
    {
     "data": {
      "text/html": [
       "<div>\n",
       "<style scoped>\n",
       "    .dataframe tbody tr th:only-of-type {\n",
       "        vertical-align: middle;\n",
       "    }\n",
       "\n",
       "    .dataframe tbody tr th {\n",
       "        vertical-align: top;\n",
       "    }\n",
       "\n",
       "    .dataframe thead th {\n",
       "        text-align: right;\n",
       "    }\n",
       "</style>\n",
       "<table border=\"1\" class=\"dataframe\">\n",
       "  <thead>\n",
       "    <tr style=\"text-align: right;\">\n",
       "      <th></th>\n",
       "      <th>sex</th>\n",
       "      <th>car_owner</th>\n",
       "      <th>house_owner</th>\n",
       "      <th>n_children</th>\n",
       "      <th>income_type</th>\n",
       "      <th>education</th>\n",
       "      <th>marital_state</th>\n",
       "      <th>residence_type</th>\n",
       "      <th>age</th>\n",
       "      <th>job_tenure</th>\n",
       "      <th>people_in_household</th>\n",
       "      <th>income</th>\n",
       "    </tr>\n",
       "  </thead>\n",
       "  <tbody>\n",
       "    <tr>\n",
       "      <th>0</th>\n",
       "      <td>F</td>\n",
       "      <td>False</td>\n",
       "      <td>True</td>\n",
       "      <td>0</td>\n",
       "      <td>Empresário</td>\n",
       "      <td>Secundário</td>\n",
       "      <td>Solteiro</td>\n",
       "      <td>Casa</td>\n",
       "      <td>26</td>\n",
       "      <td>6.602740</td>\n",
       "      <td>1.0</td>\n",
       "      <td>8060.34</td>\n",
       "    </tr>\n",
       "    <tr>\n",
       "      <th>1</th>\n",
       "      <td>M</td>\n",
       "      <td>True</td>\n",
       "      <td>True</td>\n",
       "      <td>0</td>\n",
       "      <td>Assalariado</td>\n",
       "      <td>Superior completo</td>\n",
       "      <td>Casado</td>\n",
       "      <td>Casa</td>\n",
       "      <td>28</td>\n",
       "      <td>7.183562</td>\n",
       "      <td>2.0</td>\n",
       "      <td>1852.15</td>\n",
       "    </tr>\n",
       "    <tr>\n",
       "      <th>2</th>\n",
       "      <td>F</td>\n",
       "      <td>True</td>\n",
       "      <td>True</td>\n",
       "      <td>0</td>\n",
       "      <td>Empresário</td>\n",
       "      <td>Superior completo</td>\n",
       "      <td>Casado</td>\n",
       "      <td>Casa</td>\n",
       "      <td>35</td>\n",
       "      <td>0.838356</td>\n",
       "      <td>2.0</td>\n",
       "      <td>2253.89</td>\n",
       "    </tr>\n",
       "    <tr>\n",
       "      <th>3</th>\n",
       "      <td>F</td>\n",
       "      <td>False</td>\n",
       "      <td>True</td>\n",
       "      <td>1</td>\n",
       "      <td>Servidor público</td>\n",
       "      <td>Superior completo</td>\n",
       "      <td>Casado</td>\n",
       "      <td>Casa</td>\n",
       "      <td>30</td>\n",
       "      <td>4.846575</td>\n",
       "      <td>3.0</td>\n",
       "      <td>6600.77</td>\n",
       "    </tr>\n",
       "    <tr>\n",
       "      <th>4</th>\n",
       "      <td>M</td>\n",
       "      <td>True</td>\n",
       "      <td>False</td>\n",
       "      <td>0</td>\n",
       "      <td>Assalariado</td>\n",
       "      <td>Secundário</td>\n",
       "      <td>Solteiro</td>\n",
       "      <td>Governamental</td>\n",
       "      <td>33</td>\n",
       "      <td>4.293151</td>\n",
       "      <td>1.0</td>\n",
       "      <td>6475.97</td>\n",
       "    </tr>\n",
       "  </tbody>\n",
       "</table>\n",
       "</div>"
      ],
      "text/plain": [
       "  sex  car_owner  house_owner  n_children       income_type  \\\n",
       "0   F      False         True           0        Empresário   \n",
       "1   M       True         True           0       Assalariado   \n",
       "2   F       True         True           0        Empresário   \n",
       "3   F      False         True           1  Servidor público   \n",
       "4   M       True        False           0       Assalariado   \n",
       "\n",
       "           education marital_state residence_type  age  job_tenure  \\\n",
       "0         Secundário      Solteiro           Casa   26    6.602740   \n",
       "1  Superior completo        Casado           Casa   28    7.183562   \n",
       "2  Superior completo        Casado           Casa   35    0.838356   \n",
       "3  Superior completo        Casado           Casa   30    4.846575   \n",
       "4         Secundário      Solteiro  Governamental   33    4.293151   \n",
       "\n",
       "   people_in_household   income  \n",
       "0                  1.0  8060.34  \n",
       "1                  2.0  1852.15  \n",
       "2                  2.0  2253.89  \n",
       "3                  3.0  6600.77  \n",
       "4                  1.0  6475.97  "
      ]
     },
     "execution_count": 9,
     "metadata": {},
     "output_type": "execute_result"
    }
   ],
   "source": [
    "df.head()"
   ]
  },
  {
   "cell_type": "markdown",
   "id": "571c7294-a62d-47ba-8ea4-cfa959d9949b",
   "metadata": {},
   "source": [
    "### 3) Exploratory Data Analisys <a name=\"3\"></a>"
   ]
  },
  {
   "cell_type": "markdown",
   "id": "58a575d3-67f3-44f4-b436-4c729aadeb4f",
   "metadata": {},
   "source": [
    "The dataset cotains only 11 variables, so we can check one by one."
   ]
  },
  {
   "cell_type": "code",
   "execution_count": 13,
   "id": "19422dc1-6dba-415d-bf03-e257dea4e6ae",
   "metadata": {},
   "outputs": [
    {
     "name": "stderr",
     "output_type": "stream",
     "text": [
      "\n",
      "KeyboardInterrupt\n",
      "\n"
     ]
    },
    {
     "name": "stdout",
     "output_type": "stream",
     "text": [
      "Error in callback <function flush_figures at 0x000002095906AE80> (for post_execute), with arguments args (),kwargs {}:\n"
     ]
    },
    {
     "name": "stderr",
     "output_type": "stream",
     "text": [
      "\n",
      "KeyboardInterrupt\n",
      "\n"
     ]
    }
   ],
   "source": [
    "categorical_var = ['sex', 'car_owner', 'house_owner', 'income_type',\n",
    "                   'marital_state', 'residence_type']\n",
    "\n",
    "fig, axes = plt.subplots(\n",
    "    nrows=len(categorical_var),\n",
    "    ncols=2,\n",
    "    figsize=(10, 3 * len(categorical_var)))\n",
    "\n",
    "for i, var in enumerate(categorical_var):\n",
    "    ax1 = axes[i, 0]\n",
    "    ax2 = axes[i, 1]\n",
    "    categoricals_plot(df, var, ax1, ax2)\n",
    "\n",
    "plt.tight_layout()\n",
    "plt.show()"
   ]
  },
  {
   "cell_type": "code",
   "execution_count": null,
   "id": "5d13b691-4788-4998-83e4-d3366aa4720c",
   "metadata": {},
   "outputs": [],
   "source": []
  },
  {
   "cell_type": "markdown",
   "id": "19a2e485-3035-41cd-9c4b-d59ab38251f6",
   "metadata": {},
   "source": [
    "### 5) Modeling <a name=\"5\"></a>"
   ]
  },
  {
   "cell_type": "markdown",
   "id": "7fe7a601-0c03-4d24-b0ea-278d81f29e15",
   "metadata": {},
   "source": [
    "### 6) Final Validation <a name=\"6\"></a>"
   ]
  },
  {
   "cell_type": "code",
   "execution_count": null,
   "id": "f5a5daa0-cf6a-40e5-8a41-410243d2acbb",
   "metadata": {},
   "outputs": [],
   "source": []
  }
 ],
 "metadata": {
  "kernelspec": {
   "display_name": "Python 3 (ipykernel)",
   "language": "python",
   "name": "python3"
  },
  "language_info": {
   "codemirror_mode": {
    "name": "ipython",
    "version": 3
   },
   "file_extension": ".py",
   "mimetype": "text/x-python",
   "name": "python",
   "nbconvert_exporter": "python",
   "pygments_lexer": "ipython3",
   "version": "3.12.4"
  }
 },
 "nbformat": 4,
 "nbformat_minor": 5
}
